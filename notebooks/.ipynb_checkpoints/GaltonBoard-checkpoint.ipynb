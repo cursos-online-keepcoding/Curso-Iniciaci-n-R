{
 "cells": [
  {
   "cell_type": "code",
   "execution_count": null,
   "metadata": {},
   "outputs": [],
   "source": [
    "library(tidyverse)"
   ]
  },
  {
   "cell_type": "code",
   "execution_count": null,
   "metadata": {},
   "outputs": [],
   "source": [
    "N<-30\n",
    "num_cols<-5\n",
    "df_shapes<-data.frame(my_shape=0:25)\n",
    "df_shapes$coord_x=df_shapes$my_shape %% num_cols\n",
    "df_shapes$coord_y=df_shapes$my_shape %/% num_cols"
   ]
  },
  {
   "cell_type": "code",
   "execution_count": null,
   "metadata": {},
   "outputs": [],
   "source": [
    "ggplot(data=df_shapes,aes(x=coord_x,y=coord_y,shape=my_shape))+\n",
    "  geom_point()+ scale_shape_identity()+geom_text(aes(label=my_shape,y=coord_y-0.2))"
   ]
  },
  {
   "cell_type": "code",
   "execution_count": null,
   "metadata": {},
   "outputs": [],
   "source": [
    "max_levels<-5\n",
    "x_val=c()\n",
    "y_val=c()\n",
    "#for (i in 0:-max_levels){\n",
    "for (i in seq(0,-max_levels,by=-1)){\n",
    "    for (j in -i:i){\n",
    "        if ((i+j) %% 2 == 0){\n",
    "            x_val=c(x_val,j)\n",
    "            y_val=c(y_val,i)\n",
    "        }\n",
    "    }\n",
    "}\n",
    "points=data.frame(x=x_val,y=y_val)\n",
    "ggplot(data=points,aes(x=x,y=y))+geom_point(shape=21,size=3, color=\"blue\", fill=\"red\", stroke=2)"
   ]
  },
  {
   "cell_type": "code",
   "execution_count": null,
   "metadata": {},
   "outputs": [],
   "source": [
    "calc_new_path<-function(max_levels){\n",
    "    new_path=data.frame(coord_x=rep(NA,max_levels+1),coord_y=rep(NA,max_levels+1))\n",
    "    k<-0\n",
    "\n",
    "    new_path$coord_x[1]<-0\n",
    "    new_path$coord_y[1]<-0\n",
    "    for (i in 2:(max_levels+1)){    \n",
    "        new_path$coord_y[i] <- new_path$coord_y[i-1] - 1\n",
    "        if (runif(1)>0.5){\n",
    "            new_path$coord_x[i] <- new_path$coord_x[i-1] + 1\n",
    "        }else{\n",
    "            new_path$coord_x[i] <- new_path$coord_x[i-1] - 1\n",
    "        }    \n",
    "    }\n",
    "    new_path\n",
    "}"
   ]
  },
  {
   "cell_type": "code",
   "execution_count": null,
   "metadata": {},
   "outputs": [],
   "source": [
    "new_path<-calc_new_path(max_levels)\n",
    "ggplot()+\n",
    " geom_point(data=points,aes(x=x,y=y),shape=21,size=3, color=\"blue\", fill=\"red\", stroke=2)+\n",
    " geom_path(data=new_path,aes(x=coord_x,y=coord_y))"
   ]
  },
  {
   "cell_type": "code",
   "execution_count": null,
   "metadata": {},
   "outputs": [],
   "source": [
    "max_tries=100\n",
    "total_paths<-data.frame()\n",
    "for (tries in 1:max_tries){\n",
    "    new_path<-calc_new_path(max_levels)\n",
    "    new_path$path_id=factor(tries)\n",
    "    total_paths<-rbind(total_paths,new_path)\n",
    "}\n",
    "\n",
    "ggplot()+\n",
    " geom_point(data=points,aes(x=x,y=y),shape=21,size=3, color=\"blue\", fill=\"red\", stroke=2)+\n",
    " geom_path(data=total_paths,aes(x=coord_x,y=coord_y,color=path_id),size=2,alpha=0.02)+\n",
    " theme(legend.position = \"none\")"
   ]
  },
  {
   "cell_type": "code",
   "execution_count": null,
   "metadata": {},
   "outputs": [],
   "source": [
    "\n",
    "total_paths %>% group_by(path_id) %>%  \n",
    "  arrange(coord_y) %>%\n",
    "  filter(row_number()==1) %>% ggplot(aes(x=coord_x))+geom_histogram()"
   ]
  },
  {
   "cell_type": "code",
   "execution_count": null,
   "metadata": {
    "scrolled": false
   },
   "outputs": [],
   "source": [
    "ggplot(data=total_paths[total_paths$coord_y== -max_levels,],aes(x=coord_x))+geom_histogram()+\n",
    " stat_function(fun = function(...){dnorm(...)*150},  args = list(mean = 0, sd = sd(total_paths$coord_x[total_paths$coord_y== -max_levels]))) "
   ]
  },
  {
   "cell_type": "code",
   "execution_count": null,
   "metadata": {},
   "outputs": [],
   "source": [
    "max_levels <- 10\n",
    "max_tries=1000\n",
    "total_paths<-data.frame()\n",
    "for (tries in 1:max_tries){\n",
    "    new_path<-calc_new_path(max_levels)\n",
    "    new_path$path_id=factor(tries)\n",
    "    total_paths<-rbind(total_paths,new_path)\n",
    "}"
   ]
  },
  {
   "cell_type": "code",
   "execution_count": null,
   "metadata": {},
   "outputs": [],
   "source": [
    "ggplot(data=total_paths[total_paths$coord_y== -max_levels,],aes(x=coord_x))+geom_histogram(bins=2*max_levels)+\n",
    " stat_function(fun = function(...){dnorm(...)*2000},  \n",
    "               args = list(mean = 0, sd = sd(total_paths$coord_x[total_paths$coord_y== -max_levels]))) "
   ]
  },
  {
   "cell_type": "code",
   "execution_count": null,
   "metadata": {},
   "outputs": [],
   "source": []
  }
 ],
 "metadata": {
  "kernelspec": {
   "display_name": "R",
   "language": "R",
   "name": "ir"
  },
  "language_info": {
   "codemirror_mode": "r",
   "file_extension": ".r",
   "mimetype": "text/x-r-source",
   "name": "R",
   "pygments_lexer": "r",
   "version": "3.4.4"
  }
 },
 "nbformat": 4,
 "nbformat_minor": 2
}
